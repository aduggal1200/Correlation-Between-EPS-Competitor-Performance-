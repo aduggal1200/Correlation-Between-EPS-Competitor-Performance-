{
  "nbformat": 4,
  "nbformat_minor": 0,
  "metadata": {
    "colab": {
      "provenance": []
    },
    "kernelspec": {
      "name": "python3",
      "display_name": "Python 3"
    },
    "language_info": {
      "name": "python"
    }
  },
  "cells": [
    {
      "cell_type": "code",
      "execution_count": null,
      "metadata": {
        "id": "sTiDGlyHbEub"
      },
      "outputs": [],
      "source": [
        "import numpy as np\n",
        "from scipy.stats import spearmanr, kendalltau, pearsonr\n",
        "\n",
        "# Define a function to compute the average of correlations\n",
        "def average_correlations(list1, list2):\n",
        "    # Compute the correlations using Spearman, Kendall, and Pearson methods\n",
        "    spearman_corr, _ = spearmanr(list1, list2)\n",
        "    kendall_corr, _ = kendalltau(list1, list2)\n",
        "    pearson_corr, _ = pearsonr(list1, list2)\n",
        "\n",
        "    # Calculate the average of the three correlations\n",
        "    average_corr = np.mean([spearman_corr, kendall_corr, pearson_corr])\n",
        "\n",
        "    return average_corr\n",
        "\n",
        "# Calculate the average correlation using the function\n",
        "average_corr = average_correlations(list1, list2)\n",
        "# Print the average correlation with 4 decimal places\n",
        "print(f\"Average correlation: {average_corr:.4f}\")\n"
      ]
    },
    {
      "cell_type": "code",
      "source": [
        "import yfinance as yf\n",
        "import datetime\n",
        "\n",
        "# Define a function to get the opening price of a stock on a given date\n",
        "def get_opening_price(ticker, date):\n",
        "    # Get the stock data using yfinance\n",
        "    stock = yf.Ticker(ticker)\n",
        "    # Get the historical data for the specified date\n",
        "    historical_data = stock.history(start=date, end=date, interval='1d')\n"
      ],
      "metadata": {
        "id": "4w1z7ffCbPto"
      },
      "execution_count": null,
      "outputs": []
    },
    {
      "cell_type": "code",
      "source": [
        "import yfinance as yf\n",
        "from datetime import datetime, timedelta\n",
        "\n",
        "# Define a function to calculate the percent change of a stock over a five-day period\n",
        "def five_day_percent_change(dates, ticker):\n",
        "    stock = yf.Ticker(ticker)\n",
        "    percent_changes = []\n",
        "\n",
        "    # Iterate through the dates provided\n",
        "    for date_str in dates:\n",
        "        date = datetime.strptime(date_str, '%Y-%m-%d')\n",
        "        start_date = date.strftime('%Y-%m-%d')\n",
        "        end_date = (date + timedelta(days=5)).strftime('%Y-%m-%d')\n",
        "        \n",
        "        # Get the stock's historical data for the date range\n",
        "        history = stock.history(start=start_date, end=end_date)\n",
        "        if len(history) >= 2:\n",
        "            start_price = history.iloc[0]['Close']\n",
        "            end_price = history.iloc[-1]['Close']\n",
        "            # Calculate the percent change\n",
        "            percent_change = (end_price - start_price) / start_price * 100\n",
        "            percent_changes.append(percent_change)\n",
        "        else:\n",
        "            percent_changes.append(None)\n",
        "\n",
        "    return percent_changes\n",
        "\n",
        "# Define a function to calculate the five-day percent change for multiple tickers\n",
        "def five_day_percent_changes_multiple_tickers(dates):\n",
        "    tickers = []\n",
        "    for i in range(5):\n",
        "        ticker = input(f\"Enter ticker {i + 1}: \")\n",
        "        tickers.append(ticker)\n",
        "    \n",
        "    all_percent_changes = {}\n",
        "    for ticker in tickers:\n",
        "        percent_changes = five_day_percent_change(dates, ticker)\n",
        "        all_percent_changes[ticker] = percent_changes\n",
        "    return all_percent_changes\n",
        "\n",
        "# Get the dictionary with percent changes for multiple tickers\n",
        "dates = ['2023-03-31', '2022-12-31', '2022-09-30', '2022-06-30', '2022-03-31', '2021-12-31', '2021-09-30', '2021-06-30', '2021-03-31', '2020-12-31', '2020-09-30', '2020-06-30']\n",
        "\n",
        "all_percent_changes = five_day_percent_changes_multiple_tickers(dates)\n",
        "\n",
        "# Print the percent changes for each ticker\n",
        "for ticker, percent_changes in all_percent_changes.items():\n",
        "    print(f\"{ticker}: {percent_changes}\")\n"
      ],
      "metadata": {
        "id": "mE8aztVWcqpg"
      },
      "execution_count": null,
      "outputs": []
    }
  ]
}